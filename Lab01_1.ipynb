{
 "cells": [
  {
   "cell_type": "code",
   "execution_count": 23,
   "id": "88b2b0ad-9c60-49a1-993d-5e346331e055",
   "metadata": {},
   "outputs": [],
   "source": [
    "ALPHABET = \"\"\n",
    "for i in range(26):\n",
    "    ALPHABET += chr(ord('A')+i)"
   ]
  },
  {
   "cell_type": "code",
   "execution_count": 1,
   "id": "296be372-37c5-4c1d-adf0-d35717f76f01",
   "metadata": {},
   "outputs": [],
   "source": [
    "def clean_text(text):\n",
    "    cleaned_text = \"\"\n",
    "    for char in text:\n",
    "        if char.isalpha():\n",
    "            cleaned_text += char\n",
    "    return cleaned_text"
   ]
  },
  {
   "cell_type": "code",
   "execution_count": 24,
   "id": "849afca7-09ac-4fdc-982d-1de8589eddc5",
   "metadata": {},
   "outputs": [],
   "source": [
    "def vigenere_encrypt(text, key):\n",
    "    encrypted_text = \"\"\n",
    "    key_length = len(key)\n",
    "    for i, char in enumerate(text):\n",
    "        k = ALPHABET.index(key[i%key_length].upper())\n",
    "        shift = ord('A') if char.isupper() else ord('a')\n",
    "        ch = ALPHABET.index(char.upper())\n",
    "        c = chr((ch+k)%26 + shift)\n",
    "        encrypted_text += c      \n",
    "        \n",
    "    return encrypted_text"
   ]
  },
  {
   "cell_type": "code",
   "execution_count": 26,
   "id": "5a467381-ba27-45cf-bea9-b9ef0f1864ff",
   "metadata": {},
   "outputs": [],
   "source": [
    "def vigenere_decrypt(text, key):\n",
    "    decrypted_text = \"\"\n",
    "    key_length = len(key)\n",
    "    for i, char in enumerate(text):\n",
    "        k = ALPHABET.index(key[i%key_length].upper())\n",
    "        shift = ord('A') if char.isupper() else ord('a')\n",
    "        ch = ALPHABET.index(char.upper())\n",
    "        c = chr((ch-k+26)%26 + shift)\n",
    "        decrypted_text += c \n",
    "        \n",
    "    return decrypted_text"
   ]
  },
  {
   "cell_type": "code",
   "execution_count": 27,
   "id": "21b746be-d1a7-4211-8b26-d5d23d3f5f69",
   "metadata": {},
   "outputs": [],
   "source": [
    "def chunkify_text(text, chunk_size):\n",
    "    return [text[i:i + chunk_size] for i in range(0, len(text), chunk_size)]"
   ]
  },
  {
   "cell_type": "code",
   "execution_count": 30,
   "id": "8211009f-a77b-401b-9163-874604f62b67",
   "metadata": {},
   "outputs": [],
   "source": [
    "def main():\n",
    "    text = \"\"\n",
    "    key = \"\"\n",
    "    cipher = \"\"\n",
    "    decrypted = \"\"\n",
    "    \n",
    "    #read plain text\n",
    "    with open('input.txt','r') as file:\n",
    "        text = file.read()\n",
    "    #read key\n",
    "    with open('key.txt','r') as file:\n",
    "        key = file.read()\n",
    "        \n",
    "    # (a) Remove unnecessary characters except A - Z, a - z\n",
    "    text = clean_text(text)\n",
    "\n",
    "    # (b) Encode the message using the keyphrase in ‘key.txt’.\n",
    "    cipher = vigenere_encrypt(text, key)\n",
    "\n",
    "    # (c) - Convert the ciphertext into 5-character words\n",
    "    words = chunkify_text(cipher, 5)\n",
    "    formatted_output = ' '.join(words)\n",
    "\n",
    "    # Write formatted output to 'output.txt'\n",
    "    with open('output.txt', 'w') as output_file:\n",
    "        output_file.write(formatted_output)\n",
    "\n",
    "    # (d) - Decode the ciphertext in 'output.txt' back to the original message\n",
    "    decoded_text = vigenere_decrypt(cipher, key)\n",
    "\n",
    "    with open('decoded.txt', 'w') as file:\n",
    "        file.write(decoded_text)\n",
    "\n",
    "    print(\"KEY: \", key)\n",
    "\n",
    "    miss_count = 0\n",
    "\n",
    "    for i in range(len(text)):\n",
    "        if text[i]!= decoded_text[i]:\n",
    "            miss_count += 1\n",
    "    print(\"Error rate: \", miss_count/len(text)*100)\n",
    "    "
   ]
  },
  {
   "cell_type": "code",
   "execution_count": 31,
   "id": "c1da55e0-d9af-4891-b94f-0e0a8517b9ca",
   "metadata": {},
   "outputs": [
    {
     "name": "stdout",
     "output_type": "stream",
     "text": [
      "KEY:  ShdDHHklnnlASDknnA\n",
      "Error rate:  0.0\n"
     ]
    }
   ],
   "source": [
    "if __name__ == \"__main__\":\n",
    "    main()"
   ]
  }
 ],
 "metadata": {
  "kernelspec": {
   "display_name": "Python 3 (ipykernel)",
   "language": "python",
   "name": "python3"
  },
  "language_info": {
   "codemirror_mode": {
    "name": "ipython",
    "version": 3
   },
   "file_extension": ".py",
   "mimetype": "text/x-python",
   "name": "python",
   "nbconvert_exporter": "python",
   "pygments_lexer": "ipython3",
   "version": "3.11.4"
  }
 },
 "nbformat": 4,
 "nbformat_minor": 5
}
