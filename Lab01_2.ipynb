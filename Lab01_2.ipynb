{
 "cells": [
  {
   "cell_type": "code",
   "execution_count": 1,
   "id": "e5056013-2a6c-4d48-b303-0039ee7a6178",
   "metadata": {},
   "outputs": [],
   "source": [
    "from math import log"
   ]
  },
  {
   "cell_type": "code",
   "execution_count": 2,
   "id": "06a2f412-f096-4ab3-8889-30d2db796781",
   "metadata": {},
   "outputs": [],
   "source": [
    "ALPHABET = \"\"\n",
    "for i in range(26):\n",
    "    ALPHABET += chr(ord('A')+i)"
   ]
  },
  {
   "cell_type": "code",
   "execution_count": 3,
   "id": "e8ddb632-e7f0-47a4-819a-01cbbdad9162",
   "metadata": {},
   "outputs": [],
   "source": [
    "def fitness(text):    \n",
    "    result = 0    \n",
    "    for i in range(len(text)-3):        \n",
    "        tetragram = text[i:i+4]        \n",
    "        x = (ALPHABET.index(tetragram[0].upper())*26*26*26 +             \n",
    "             ALPHABET.index(tetragram[1].upper())*26*26 +             \n",
    "             ALPHABET.index(tetragram[2].upper())*26 +             \n",
    "             ALPHABET.index(tetragram[3].upper())\n",
    "            )        \n",
    "        y = tetrafrequencies[x]        \n",
    "        if y == 0:            \n",
    "            result += -15 # some large negative number        \n",
    "        else:            \n",
    "            result += log(y)    \n",
    "    result = result / (len(text) - 3)    \n",
    "    return result"
   ]
  },
  {
   "cell_type": "code",
   "execution_count": 4,
   "id": "25077480-1b2d-470f-a63e-82db86efe75a",
   "metadata": {},
   "outputs": [],
   "source": [
    "def tetraFreq(cipher):\n",
    "    tetrafrequencies = [0]*26*26*26*26 \n",
    "    for i in range(len(text) - 3):    \n",
    "        x = (ALPHABET.index(text[i].upper())*26*26*26 +         \n",
    "             ALPHABET.index(text[i+1].upper())*26*26 +         \n",
    "             ALPHABET.index(text[i+2].upper())*26 +         \n",
    "             ALPHABET.index(text[i+3].upper())\n",
    "            )    \n",
    "        tetrafrequencies[x] += 1 \n",
    "        for i in range(26*26*26*26):    \n",
    "            tetrafrequencies[i] = tetrafrequencies[i] / (len(text)-3)"
   ]
  },
  {
   "cell_type": "code",
   "execution_count": 5,
   "id": "44c168bf-0765-44d4-8183-38ee03fc5be4",
   "metadata": {},
   "outputs": [],
   "source": [
    "def monoFreq(cipher):\n",
    "    monofrequencies = [0]*26 \n",
    "    for char in cipher:    \n",
    "        x = ALPHABET.index(char.upper())    \n",
    "        monofrequencies[x] += 1 \n",
    "    for i in range(26):    \n",
    "        monofrequencies[i] = monofrequencies[i] / len(cipher)\n",
    "    return monofrequencies"
   ]
  },
  {
   "cell_type": "code",
   "execution_count": 6,
   "id": "50efa956-1bf2-4310-a7f2-11ffdc2a38d3",
   "metadata": {},
   "outputs": [],
   "source": [
    "def index_of_coincidence(text):    \n",
    "    counts = [0]*26    \n",
    "    for char in text:        \n",
    "        counts[ALPHABET.index(char.upper())] += 1    \n",
    "        numer = 0    \n",
    "        total = 0    \n",
    "    for i in range(26):        \n",
    "        numer += counts[i]*(counts[i]-1)        \n",
    "        total += counts[i]    \n",
    "    return 26*numer / (total*(total-1))"
   ]
  },
  {
   "cell_type": "code",
   "execution_count": 7,
   "id": "1ba2c29c-9bc2-42ca-9d2c-ebfa249f1ec0",
   "metadata": {},
   "outputs": [],
   "source": [
    "def find_period(cipher):\n",
    "    found = False \n",
    "    period = 0 \n",
    "    while not found:    \n",
    "        period += 1    \n",
    "        slices = ['']*period    \n",
    "        for i in range(len(cipher)):        \n",
    "            slices[i%period] += cipher[i]    \n",
    "        sum = 0    \n",
    "        for i in range(period):        \n",
    "            sum += index_of_coincidence(slices[i])    \n",
    "        ioc = sum / period    \n",
    "        if ioc > 1.6:        \n",
    "            found = True\n",
    "    return period, slices"
   ]
  },
  {
   "cell_type": "code",
   "execution_count": 8,
   "id": "c447a632-16b5-4868-a4a1-8f8922ac3d45",
   "metadata": {},
   "outputs": [],
   "source": [
    "from math import sqrt \n",
    "def cosangle(x,y):    \n",
    "    numerator = 0    \n",
    "    lengthx2 = 0    \n",
    "    lengthy2 = 0    \n",
    "    for i in range(len(x)):        \n",
    "        numerator += x[i]*y[i]        \n",
    "        lengthx2 += x[i]*x[i]        \n",
    "        lengthy2 += y[i]*y[i]    \n",
    "    return numerator / sqrt(lengthx2*lengthy2)"
   ]
  },
  {
   "cell_type": "code",
   "execution_count": 9,
   "id": "411ec120-63fb-4eb7-bdcf-fae6ffe0139f",
   "metadata": {},
   "outputs": [],
   "source": [
    "with open('output.txt','r') as file:\n",
    "        output = file.read().replace(' ','')"
   ]
  },
  {
   "cell_type": "code",
   "execution_count": 10,
   "id": "7ed8725c-f9e0-45dc-ab03-a3066b16243a",
   "metadata": {},
   "outputs": [
    {
     "name": "stdout",
     "output_type": "stream",
     "text": [
      "['A', 'A', 'A', 'A', 'A', 'A', 'A', 'A', 'A', 'A', 'A', 'A', 'A', 'A', 'A', 'A', 'A', 'A']\n"
     ]
    }
   ],
   "source": [
    "period, slices = find_period(output)\n",
    "monofrequencies = monoFreq(output)\n",
    "frequencies = [] \n",
    "for i in range(period):    \n",
    "    frequencies.append([0]*26)    \n",
    "    for j in range(len(slices[i])):        \n",
    "        frequencies[i][ALPHABET.index(slices[i][j].upper())] += 1    \n",
    "    for j in range(26):        \n",
    "        frequencies[i][j] = frequencies[i][j] / len(slices[i]) \n",
    "key = ['A']*period \n",
    "for i in range(period):    \n",
    "    for j in range(26):        \n",
    "        testtable = frequencies[i][j:]+frequencies[i][:j]        \n",
    "        if cosangle(monofrequencies,testtable) > 0.9:            \n",
    "            key[i] = ALPHABET[j] \n",
    "print(key)\n",
    "# plaintext = decrypt(ciphertext,key)"
   ]
  },
  {
   "cell_type": "code",
   "execution_count": null,
   "id": "d8f475d2-5329-45fd-bd6c-615fc012d64e",
   "metadata": {},
   "outputs": [],
   "source": []
  }
 ],
 "metadata": {
  "kernelspec": {
   "display_name": "Python 3 (ipykernel)",
   "language": "python",
   "name": "python3"
  },
  "language_info": {
   "codemirror_mode": {
    "name": "ipython",
    "version": 3
   },
   "file_extension": ".py",
   "mimetype": "text/x-python",
   "name": "python",
   "nbconvert_exporter": "python",
   "pygments_lexer": "ipython3",
   "version": "3.11.4"
  }
 },
 "nbformat": 4,
 "nbformat_minor": 5
}
