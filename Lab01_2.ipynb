{
 "cells": [
  {
   "cell_type": "code",
   "execution_count": 5,
   "id": "7e468c59-8b65-4a3e-bad8-8a4d1fbb7fff",
   "metadata": {},
   "outputs": [],
   "source": [
    "import collections\n",
    "import string\n",
    "import re"
   ]
  },
  {
   "cell_type": "code",
   "execution_count": 8,
   "id": "68ec75f3-a506-40be-860b-3d7075bb9754",
   "metadata": {},
   "outputs": [],
   "source": [
    "def find_repeated_sequences(ciphertext, min_length=3):\n",
    "    \"\"\"\n",
    "    Finds repeated sequences of characters in the ciphertext.\n",
    "    \n",
    "    Returns:\n",
    "    dict: A dictionary where keys are the repeated sequences and values are lists of their positions.\n",
    "    \"\"\"\n",
    "    repeated_sequences = {}\n",
    "    for length in range(min_length, len(ciphertext)):\n",
    "        for start_pos in range(len(ciphertext) - length + 1):\n",
    "            sequence = ciphertext[start_pos:start_pos + length]\n",
    "            if sequence in repeated_sequences:\n",
    "                repeated_sequences[sequence].append(start_pos)\n",
    "            else:\n",
    "                repeated_sequences[sequence] = [start_pos]\n",
    "    return {k: v for k, v in repeated_sequences.items() if len(v) > 1}\n",
    "\n"
   ]
  },
  {
   "cell_type": "code",
   "execution_count": 9,
   "id": "6b1c3a99-afd9-4648-b83f-0bb9839350f0",
   "metadata": {},
   "outputs": [],
   "source": [
    "def calculate_distances(repeated_sequences):\n",
    "    \"\"\"\n",
    "    Calculates the distances between repeated sequences.\n",
    "\n",
    "    Args:\n",
    "    repeated_sequences (dict): Dictionary of repeated sequences and their positions.\n",
    "\n",
    "    Returns:\n",
    "    list: List of distances between repeated sequences.\n",
    "    \"\"\"\n",
    "    distances = []\n",
    "    for sequence, positions in repeated_sequences.items():\n",
    "        for i in range(len(positions) - 1):\n",
    "            distance = positions[i + 1] - positions[i]\n",
    "            distances.append(distance)\n",
    "    return distances\n"
   ]
  },
  {
   "cell_type": "code",
   "execution_count": 10,
   "id": "c286b2d8-ce77-4792-bc44-d1a4f9507b10",
   "metadata": {},
   "outputs": [],
   "source": [
    "def gcd(a, b):\n",
    "    while b:\n",
    "        a, b = b, a % b\n",
    "    return a"
   ]
  },
  {
   "cell_type": "code",
   "execution_count": 11,
   "id": "9dab718b-8f53-4fa9-b1e5-6107ac38c1b3",
   "metadata": {},
   "outputs": [],
   "source": [
    "def find_key_length(ciphertext):\n",
    "    \"\"\"\n",
    "    Finds the estimated length of the repeating key in the Vigenère cipher.\n",
    "\n",
    "    Returns:\n",
    "    int: Estimated key length.\n",
    "    \"\"\"\n",
    "    repeated_sequences = find_repeated_sequences(ciphertext)\n",
    "    distances = calculate_distances(repeated_sequences)\n",
    "    unique_distances = list(set(distances))\n",
    "    potential_key_lengths = []\n",
    "    for distance in unique_distances:\n",
    "        for other_distance in unique_distances:\n",
    "            if distance != other_distance:\n",
    "                potential_key_lengths.append(gcd(distance, other_distance))\n",
    "    estimated_key_length = max(set(potential_key_lengths), key=potential_key_lengths.count)\n",
    "    return estimated_key_length"
   ]
  },
  {
   "cell_type": "code",
   "execution_count": null,
   "id": "e8d465b9-b0e1-416b-8de7-c512df427013",
   "metadata": {},
   "outputs": [],
   "source": [
    "def vigenere_decrypt(ciphertext, key_length):\n",
    "    # Create groups based on key length\n",
    "    groups = ['' for _ in range(key_length)]\n",
    "    for i, char in enumerate(ciphertext):\n",
    "        groups[i % key_length] += char\n",
    "\n",
    "    # Define English letter frequencies\n",
    "    english_frequencies = {'e': 0.127, 't': 0.091, 'a': 0.082, 'o': 0.075, 'i': 0.070,\n",
    "                           'n': 0.067, 's': 0.063, 'h': 0.061, 'r': 0.060, 'd': 0.043,\n",
    "                           'l': 0.040, 'c': 0.028, 'u': 0.028, 'm': 0.024, 'w': 0.024,\n",
    "                           'f': 0.022, 'g': 0.020, 'y': 0.020, 'p': 0.019, 'b': 0.015,\n",
    "                           'v': 0.010, 'k': 0.008, 'j': 0.002, 'x': 0.001, 'q': 0.001, 'z': 0.001}\n",
    "\n",
    "    def chi_squared(observed_frequencies):\n",
    "        chi2 = 0\n",
    "        total = sum(observed_frequencies.values())\n",
    "        for letter, expected_frequency in english_frequencies.items():\n",
    "            observed_frequency = observed_frequencies[letter] / total\n",
    "            chi2 += (observed_frequency - expected_frequency) ** 2 / expected_frequency\n",
    "        return chi2\n",
    "\n",
    "    # Decrypt each group using frequency analysis\n",
    "    decrypted_groups = []\n",
    "    for group in groups:\n",
    "        # Count letter frequencies in the group\n",
    "        frequency_counter = collections.Counter(group.lower())\n",
    "        # Sort by frequency (most frequent first)\n",
    "        sorted_frequencies = sorted(frequency_counter.items(), key=lambda x: x[1], reverse=True)\n",
    "        # Assuming the most frequent letter is 'e'\n",
    "        most_frequent_letter = sorted_frequencies[0][0]\n",
    "        # Shift to get the key letter\n",
    "        key_letter = chr((ord(most_frequent_letter) - ord('e')) % 26 + ord('a'))\n",
    "        # Decrypt the group\n",
    "        decrypted_group = ''\n",
    "        for char in group:\n",
    "            decrypted_char = chr((ord(char) - ord(key_letter)) % 26 + ord('a'))\n",
    "            decrypted_group += decrypted_char\n",
    "        decrypted_groups.append(decrypted_group)\n",
    "\n",
    "    # Combine decrypted groups into the plaintext\n",
    "    plaintext = ''\n",
    "    for i in range(len(ciphertext)):\n",
    "        plaintext += decrypted_groups[i % key_length][i // key_length]\n",
    "\n",
    "    return plaintext\n"
   ]
  },
  {
   "cell_type": "code",
   "execution_count": null,
   "id": "d349b132-f6eb-4ade-b276-0ee9cfef1ee5",
   "metadata": {},
   "outputs": [],
   "source": [
    "ciphertext = \"\"\n",
    "with open(\"output.txt\", 'r') as file:\n",
    "    ciphertext = file.read().replace(' ','')\n",
    "    \n",
    "key_length = find_key_length(ciphertext)\n",
    "print(key_length)"
   ]
  }
 ],
 "metadata": {
  "kernelspec": {
   "display_name": "Python 3 (ipykernel)",
   "language": "python",
   "name": "python3"
  },
  "language_info": {
   "codemirror_mode": {
    "name": "ipython",
    "version": 3
   },
   "file_extension": ".py",
   "mimetype": "text/x-python",
   "name": "python",
   "nbconvert_exporter": "python",
   "pygments_lexer": "ipython3",
   "version": "3.11.4"
  }
 },
 "nbformat": 4,
 "nbformat_minor": 5
}
