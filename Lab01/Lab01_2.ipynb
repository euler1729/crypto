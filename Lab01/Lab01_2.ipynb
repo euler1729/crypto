{
 "cells": [
  {
   "cell_type": "code",
   "execution_count": 1,
   "id": "7e468c59-8b65-4a3e-bad8-8a4d1fbb7fff",
   "metadata": {},
   "outputs": [],
   "source": [
    "import collections\n",
    "import string\n",
    "import re"
   ]
  },
  {
   "cell_type": "code",
   "execution_count": 10,
   "id": "4b6a1d84",
   "metadata": {},
   "outputs": [],
   "source": [
    "english_letter_frequencies = {\n",
    "    'E': 12.70,\n",
    "    'T': 9.06,\n",
    "    'A': 8.17,\n",
    "    'O': 7.51,\n",
    "    'I': 6.97,\n",
    "    'N': 6.75,\n",
    "    'S': 6.33,\n",
    "    'H': 6.09,\n",
    "    'R': 5.99,\n",
    "    'D': 4.25,\n",
    "    'L': 4.03,\n",
    "    'C': 2.78,\n",
    "    'U': 2.76,\n",
    "    'M': 2.41,\n",
    "    'W': 2.36,\n",
    "    'F': 2.23,\n",
    "    'G': 2.02,\n",
    "    'Y': 1.97,\n",
    "    'P': 1.93,\n",
    "    'B': 1.49,\n",
    "    'V': 0.98,\n",
    "    'K': 0.77,\n",
    "    'J': 0.15,\n",
    "    'X': 0.15,\n",
    "    'Q': 0.10,\n",
    "    'Z': 0.07\n",
    "}"
   ]
  },
  {
   "cell_type": "code",
   "execution_count": 13,
   "id": "5861b1e9",
   "metadata": {},
   "outputs": [],
   "source": [
    "ETOZ = 'ETAOINSHRDLCUMWFGYPBVKJXQZ'\n",
    "LETTERS = 'ABCDEFGHIJKLMNOPQRSTUVWXYZ'"
   ]
  },
  {
   "cell_type": "code",
   "execution_count": 12,
   "id": "51fb2f7b",
   "metadata": {},
   "outputs": [],
   "source": [
    "# returns dictionary with freq of alphabets in a text\n",
    "def getFreq(cipher):\n",
    "    freq = {}\n",
    "    for l in LETTERS:\n",
    "        freq[l] = 0\n",
    "    for c in cipher.upper():\n",
    "        freq[c] += 1\n",
    "    return freq"
   ]
  },
  {
   "cell_type": "code",
   "execution_count": null,
   "id": "a3fb8e46",
   "metadata": {},
   "outputs": [],
   "source": [
    "# returns a string of ALPHABETS ordered by freq\n",
    "def freqOrder(cipher):\n",
    "    alphaToFreq = getFreq(cipher)\n",
    "    freqToAlpha = {}\n",
    "    for l in LETTERS:\n",
    "        "
   ]
  }
 ],
 "metadata": {
  "kernelspec": {
   "display_name": "Python 3 (ipykernel)",
   "language": "python",
   "name": "python3"
  },
  "language_info": {
   "codemirror_mode": {
    "name": "ipython",
    "version": 3
   },
   "file_extension": ".py",
   "mimetype": "text/x-python",
   "name": "python",
   "nbconvert_exporter": "python",
   "pygments_lexer": "ipython3",
   "version": "3.11.7"
  }
 },
 "nbformat": 4,
 "nbformat_minor": 5
}
